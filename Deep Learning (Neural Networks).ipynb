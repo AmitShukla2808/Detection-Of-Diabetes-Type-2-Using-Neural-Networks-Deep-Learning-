{
 "cells": [
  {
   "cell_type": "markdown",
   "metadata": {},
   "source": [
    "# Detection Of Diabetes Using Deep Learning Model (Neural Networks)"
   ]
  },
  {
   "cell_type": "markdown",
   "metadata": {},
   "source": [
    "This project is intended to build a simple model that predicts if a person might be suffering from Diabetes Mellitus. For this purpose we have used a deep learning model with 3 layers. We have used Keras library for this purpose."
   ]
  },
  {
   "cell_type": "markdown",
   "metadata": {},
   "source": [
    "## Diabetes And Its Effects"
   ]
  },
  {
   "cell_type": "markdown",
   "metadata": {},
   "source": [
    "Diabetes is among one of the most common and widespread diseases in the world at present. Currently around 10.5% of global population suffers from Diabetes Mellitus (Type 2). Recently it has been observed that this disease is also rapidly growing in adolescents and early age adults. Diabetes can be genetic too which means that a person has a high risk of developing diabetes if it runs in the family history. It is a lifestyle disease and can can create severe consequences if not detected early and treated properly. Diabetes has a direct impact on functioning of heart and kidneys. Such prolonged effects can lead to cardiovascular diseases, blood pressure problems and failure of kidneys. In 2020, according to the International Diabetes Federation (IDF), 463 million people have diabetes in the world and 88 million people in the Southeast Asia region. Of this 88 million people, 77 million belong to India. The prevalence of diabetes in the population is 8.9%, according to the IDF. Thus this issue is an alarming one. One of the reasons is also that many people go untested or do not properly take a treatment for this problem. This model using only some primary features, tries to detect diabetes or chances of diabetes."
   ]
  },
  {
   "cell_type": "markdown",
   "metadata": {},
   "source": [
    "## Data Sources"
   ]
  },
  {
   "cell_type": "markdown",
   "metadata": {},
   "source": [
    "For this model we have used the data from Pima Indians Diabetes Database. Link : https://www.kaggle.com/datasets/uciml/pima-indians-diabetes-database"
   ]
  },
  {
   "cell_type": "markdown",
   "metadata": {},
   "source": [
    "## Exploratory Data Analysis (EDA)"
   ]
  },
  {
   "cell_type": "code",
   "execution_count": 200,
   "metadata": {},
   "outputs": [],
   "source": [
    "# Importing standard libraries used for EDA \n",
    "import pandas as pd\n",
    "import seaborn as sns\n",
    "import matplotlib.pyplot as plt\n",
    "%matplotlib inline"
   ]
  },
  {
   "cell_type": "code",
   "execution_count": 201,
   "metadata": {},
   "outputs": [
    {
     "data": {
      "text/html": [
       "<div>\n",
       "<style scoped>\n",
       "    .dataframe tbody tr th:only-of-type {\n",
       "        vertical-align: middle;\n",
       "    }\n",
       "\n",
       "    .dataframe tbody tr th {\n",
       "        vertical-align: top;\n",
       "    }\n",
       "\n",
       "    .dataframe thead th {\n",
       "        text-align: right;\n",
       "    }\n",
       "</style>\n",
       "<table border=\"1\" class=\"dataframe\">\n",
       "  <thead>\n",
       "    <tr style=\"text-align: right;\">\n",
       "      <th></th>\n",
       "      <th>Pregnancies</th>\n",
       "      <th>Glucose</th>\n",
       "      <th>BloodPressure</th>\n",
       "      <th>SkinThickness</th>\n",
       "      <th>Insulin</th>\n",
       "      <th>BMI</th>\n",
       "      <th>DiabetesPedigreeFunction</th>\n",
       "      <th>Age</th>\n",
       "      <th>Outcome</th>\n",
       "    </tr>\n",
       "  </thead>\n",
       "  <tbody>\n",
       "    <tr>\n",
       "      <th>0</th>\n",
       "      <td>6</td>\n",
       "      <td>148</td>\n",
       "      <td>72</td>\n",
       "      <td>35</td>\n",
       "      <td>0</td>\n",
       "      <td>33.6</td>\n",
       "      <td>0.627</td>\n",
       "      <td>50</td>\n",
       "      <td>1</td>\n",
       "    </tr>\n",
       "    <tr>\n",
       "      <th>1</th>\n",
       "      <td>1</td>\n",
       "      <td>85</td>\n",
       "      <td>66</td>\n",
       "      <td>29</td>\n",
       "      <td>0</td>\n",
       "      <td>26.6</td>\n",
       "      <td>0.351</td>\n",
       "      <td>31</td>\n",
       "      <td>0</td>\n",
       "    </tr>\n",
       "    <tr>\n",
       "      <th>2</th>\n",
       "      <td>8</td>\n",
       "      <td>183</td>\n",
       "      <td>64</td>\n",
       "      <td>0</td>\n",
       "      <td>0</td>\n",
       "      <td>23.3</td>\n",
       "      <td>0.672</td>\n",
       "      <td>32</td>\n",
       "      <td>1</td>\n",
       "    </tr>\n",
       "    <tr>\n",
       "      <th>3</th>\n",
       "      <td>1</td>\n",
       "      <td>89</td>\n",
       "      <td>66</td>\n",
       "      <td>23</td>\n",
       "      <td>94</td>\n",
       "      <td>28.1</td>\n",
       "      <td>0.167</td>\n",
       "      <td>21</td>\n",
       "      <td>0</td>\n",
       "    </tr>\n",
       "    <tr>\n",
       "      <th>4</th>\n",
       "      <td>0</td>\n",
       "      <td>137</td>\n",
       "      <td>40</td>\n",
       "      <td>35</td>\n",
       "      <td>168</td>\n",
       "      <td>43.1</td>\n",
       "      <td>2.288</td>\n",
       "      <td>33</td>\n",
       "      <td>1</td>\n",
       "    </tr>\n",
       "  </tbody>\n",
       "</table>\n",
       "</div>"
      ],
      "text/plain": [
       "   Pregnancies  Glucose  BloodPressure  SkinThickness  Insulin   BMI  \\\n",
       "0            6      148             72             35        0  33.6   \n",
       "1            1       85             66             29        0  26.6   \n",
       "2            8      183             64              0        0  23.3   \n",
       "3            1       89             66             23       94  28.1   \n",
       "4            0      137             40             35      168  43.1   \n",
       "\n",
       "   DiabetesPedigreeFunction  Age  Outcome  \n",
       "0                     0.627   50        1  \n",
       "1                     0.351   31        0  \n",
       "2                     0.672   32        1  \n",
       "3                     0.167   21        0  \n",
       "4                     2.288   33        1  "
      ]
     },
     "execution_count": 201,
     "metadata": {},
     "output_type": "execute_result"
    }
   ],
   "source": [
    "# Reading Data and display of some part of it\n",
    "diabetes_data = pd.read_csv('diabetes.csv')\n",
    "diabetes_data.head()"
   ]
  },
  {
   "cell_type": "code",
   "execution_count": 202,
   "metadata": {},
   "outputs": [
    {
     "data": {
      "text/plain": [
       "<bound method NDFrame.describe of      Pregnancies  Glucose  BloodPressure  SkinThickness  Insulin   BMI  \\\n",
       "0              6      148             72             35        0  33.6   \n",
       "1              1       85             66             29        0  26.6   \n",
       "2              8      183             64              0        0  23.3   \n",
       "3              1       89             66             23       94  28.1   \n",
       "4              0      137             40             35      168  43.1   \n",
       "..           ...      ...            ...            ...      ...   ...   \n",
       "763           10      101             76             48      180  32.9   \n",
       "764            2      122             70             27        0  36.8   \n",
       "765            5      121             72             23      112  26.2   \n",
       "766            1      126             60              0        0  30.1   \n",
       "767            1       93             70             31        0  30.4   \n",
       "\n",
       "     DiabetesPedigreeFunction  Age  Outcome  \n",
       "0                       0.627   50        1  \n",
       "1                       0.351   31        0  \n",
       "2                       0.672   32        1  \n",
       "3                       0.167   21        0  \n",
       "4                       2.288   33        1  \n",
       "..                        ...  ...      ...  \n",
       "763                     0.171   63        0  \n",
       "764                     0.340   27        0  \n",
       "765                     0.245   30        0  \n",
       "766                     0.349   47        1  \n",
       "767                     0.315   23        0  \n",
       "\n",
       "[768 rows x 9 columns]>"
      ]
     },
     "execution_count": 202,
     "metadata": {},
     "output_type": "execute_result"
    }
   ],
   "source": [
    "# Brief description of data\n",
    "diabetes_data.describe"
   ]
  },
  {
   "cell_type": "markdown",
   "metadata": {},
   "source": [
    "The above dataset contains a history of 768 patients who were tested over 8 different parameters clinically and the result of the test is in the 9th column. The 8 Parameters used are :\n",
    "* Age  : Age of the patient\n",
    "* Pregnancy : Number of times a patient was pregnant.\n",
    "* Glucose Level : The glucose content in the blood at the time of test. This is random GL test value.\n",
    "* Blood Pressure : Diastolic Pressure.\n",
    "* Skin Thickness : the depth of the skin tissue (uptil epiderma).\n",
    "* Insulin : Insulin level in the blood.\n",
    "* BMI : Body Mass Index ( A measure of body fat based on height and weight of the patient ).\n",
    "* DiabetesPedigreeFunction : A measure of likelihood of diabetes based on family history.\n"
   ]
  },
  {
   "cell_type": "code",
   "execution_count": 203,
   "metadata": {},
   "outputs": [],
   "source": [
    "# Creation of feature and result dataframe\n",
    "diabetic_features = diabetes_data.drop('Outcome',axis = 1)\n",
    "diabetic_diagnosis = diabetes_data['Outcome']"
   ]
  },
  {
   "cell_type": "code",
   "execution_count": 204,
   "metadata": {},
   "outputs": [
    {
     "data": {
      "text/plain": [
       "<matplotlib.collections.PathCollection at 0x7f470e81c410>"
      ]
     },
     "execution_count": 204,
     "metadata": {},
     "output_type": "execute_result"
    },
    {
     "data": {
      "image/png": "[encoded data removed]",
      "text/plain": [
       "<Figure size 576x504 with 1 Axes>"
      ]
     },
     "metadata": {},
     "output_type": "display_data"
    }
   ],
   "source": [
    "# Let's plot some graphs to see how much correlation lies between parameters and result of diabetic test\n",
    "plt.rcParams[\"figure.figsize\"] = (8,7)\n",
    "sns.set_style('whitegrid')\n",
    "plt.scatter(diabetic_diagnosis,diabetic_features['Age'])"
   ]
  },
  {
   "cell_type": "markdown",
   "metadata": {},
   "source": [
    "We can see that people having diabetes have a varying range of age starting from bottom 20 going upto 70 which shows a great amount of concern that even young people are diseased with diabetes."
   ]
  },
  {
   "cell_type": "code",
   "execution_count": 205,
   "metadata": {},
   "outputs": [
    {
     "data": {
      "text/plain": [
       "<matplotlib.axes._subplots.AxesSubplot at 0x7f470e81cd10>"
      ]
     },
     "execution_count": 205,
     "metadata": {},
     "output_type": "execute_result"
    },
    {
     "data": {
      "image/png": "[encoded data removed]",
      "text/plain": [
       "<Figure size 576x504 with 1 Axes>"
      ]
     },
     "metadata": {},
     "output_type": "display_data"
    }
   ],
   "source": [
    "# Lets look at relation between BMI and Diabetic Outcomes\n",
    "sns.stripplot(x = diabetes_data['Outcome'],y = diabetes_data['BMI'],data = diabetes_data,palette=sns.color_palette(\"husl\", 8))"
   ]
  },
  {
   "cell_type": "markdown",
   "metadata": {},
   "source": [
    "We see that BMI does not tells much if a person would suffer from Diabetes or not because normal people as well as\n",
    "our patients both have nearby about the same Body Mass Index."
   ]
  },
  {
   "cell_type": "code",
   "execution_count": 206,
   "metadata": {},
   "outputs": [
    {
     "name": "stdout",
     "output_type": "stream",
     "text": [
      "People having diabetes : 268\n",
      "People that have pedigree measure greater than 0.30 and have diabetes : 186\n"
     ]
    },
    {
     "data": {
      "image/png": "[encoded data removed]",
      "text/plain": [
       "<Figure size 576x504 with 1 Axes>"
      ]
     },
     "metadata": {},
     "output_type": "display_data"
    }
   ],
   "source": [
    "# Lets look what a person's ancestral line / pedigree can predict about a person to suffer from Diabetes\n",
    "sns.kdeplot(x = diabetes_data['DiabetesPedigreeFunction'],hue = diabetes_data['Outcome'],data = diabetes_data,multiple='stack')\n",
    "print(\"People having diabetes :\",diabetes_data[diabetes_data['Outcome']==True]['Outcome'].count())\n",
    "print(\"People that have pedigree measure greater than 0.30 and have diabetes :\",diabetes_data[(diabetes_data['Outcome']==True) & (diabetes_data['DiabetesPedigreeFunction']>=0.30)]['Outcome'].count())"
   ]
  },
  {
   "cell_type": "markdown",
   "metadata": {},
   "source": [
    "From above distribution we can say that if diabetes runs in the ancestral line, then it is highly possible for a person to inherit this trait and be diagnosed for diabetes in future. About 69.4% patients of total patients had pedigree score greater than 0.30 and also had diabetes. We have taken 0.30 as the lower bound for diabetic people cause from above graph, we can see that most of the patients we had, had mostly 0.30 as pedigree score. While this result can be biased because people with low score have also become a victim of diabetes while people with high scores as 1.9 do not have diabetes."
   ]
  },
  {
   "cell_type": "code",
   "execution_count": 207,
   "metadata": {},
   "outputs": [
    {
     "data": {
      "text/plain": [
       "<matplotlib.axes._subplots.AxesSubplot at 0x7f470db3bf50>"
      ]
     },
     "execution_count": 207,
     "metadata": {},
     "output_type": "execute_result"
    },
    {
     "data": {
      "image/png": "[encoded data removed]",
      "text/plain": [
       "<Figure size 576x504 with 2 Axes>"
      ]
     },
     "metadata": {},
     "output_type": "display_data"
    }
   ],
   "source": [
    "# Let us try to look for some correlations between the features\n",
    "sns.heatmap(diabetic_features.corr())"
   ]
  },
  {
   "cell_type": "markdown",
   "metadata": {},
   "source": [
    "We can see that there is a good amount of correlation between age and pregnancy frequency but actually they are not causal of one another because pregnancy frequency is dependent on an individual patient. While both age and pregnancy can trigger diabetic symptoms. Rest of the factors do not show a significant amount of correlation ( Insulin and Glucose show inverse correlation as Insulin affects the level of Glucose in blood )."
   ]
  },
  {
   "cell_type": "markdown",
   "metadata": {},
   "source": [
    "## Model Building, Training And Testing"
   ]
  },
  {
   "cell_type": "markdown",
   "metadata": {},
   "source": [
    "We have used a simple sequential model with 3 Layers of connectivity. The first input layer has 8 input features and 12 Neurons with ReLu as the activation function of this layer(Rectified Linear Unit), the second hidden layer has 8 Neurons with ReLu as the activation function. The Final layer or the output layer has only 1 Neuron and uses sigmoid function for activation as its a binary type classification (Yes/No)."
   ]
  },
  {
   "cell_type": "code",
   "execution_count": 208,
   "metadata": {},
   "outputs": [],
   "source": [
    "# Creating Model\n",
    "from keras.models import Sequential as sq\n",
    "from keras.layers import Dense as ds\n",
    "model = Sequential()\n",
    "model.add(Dense(12,input_dim = 8,activation = 'relu'))\n",
    "model.add(Dense(12,activation = 'relu'))\n",
    "model.add(Dense(1,activation = 'sigmoid'))"
   ]
  },
  {
   "cell_type": "code",
   "execution_count": 209,
   "metadata": {},
   "outputs": [],
   "source": [
    "# Compiling Model. We are going to use Binary Cross Entropy for the loss function and adam for optimiser.\n",
    "model.compile(loss='binary_crossentropy',optimizer='adam',metrics = ['accuracy'])"
   ]
  },
  {
   "cell_type": "code",
   "execution_count": 213,
   "metadata": {},
   "outputs": [
    {
     "name": "stdout",
     "output_type": "stream",
     "text": [
      "Epoch 1/100\n",
      "154/154 [==============================] - 1s 3ms/step - loss: 0.5003 - accuracy: 0.7539\n",
      "Epoch 2/100\n",
      "154/154 [==============================] - 0s 3ms/step - loss: 0.4944 - accuracy: 0.7526\n",
      "Epoch 3/100\n",
      "154/154 [==============================] - 0s 3ms/step - loss: 0.4994 - accuracy: 0.7526\n",
      "Epoch 4/100\n",
      "154/154 [==============================] - 0s 3ms/step - loss: 0.4919 - accuracy: 0.7617\n",
      "Epoch 5/100\n",
      "154/154 [==============================] - 0s 3ms/step - loss: 0.5048 - accuracy: 0.7513\n",
      "Epoch 6/100\n",
      "154/154 [==============================] - 0s 3ms/step - loss: 0.4953 - accuracy: 0.7500\n",
      "Epoch 7/100\n",
      "154/154 [==============================] - 0s 3ms/step - loss: 0.4914 - accuracy: 0.7891\n",
      "Epoch 8/100\n",
      "154/154 [==============================] - 0s 3ms/step - loss: 0.5038 - accuracy: 0.7617\n",
      "Epoch 9/100\n",
      "154/154 [==============================] - 0s 3ms/step - loss: 0.4929 - accuracy: 0.7513\n",
      "Epoch 10/100\n",
      "154/154 [==============================] - 0s 3ms/step - loss: 0.4961 - accuracy: 0.7617\n",
      "Epoch 11/100\n",
      "154/154 [==============================] - 0s 3ms/step - loss: 0.5051 - accuracy: 0.7578\n",
      "Epoch 12/100\n",
      "154/154 [==============================] - 0s 3ms/step - loss: 0.4865 - accuracy: 0.7630\n",
      "Epoch 13/100\n",
      "154/154 [==============================] - 0s 3ms/step - loss: 0.5200 - accuracy: 0.7240\n",
      "Epoch 14/100\n",
      "154/154 [==============================] - 0s 3ms/step - loss: 0.5034 - accuracy: 0.7591\n",
      "Epoch 15/100\n",
      "154/154 [==============================] - 0s 3ms/step - loss: 0.4841 - accuracy: 0.7643\n",
      "Epoch 16/100\n",
      "154/154 [==============================] - 0s 3ms/step - loss: 0.4881 - accuracy: 0.7747\n",
      "Epoch 17/100\n",
      "154/154 [==============================] - 0s 3ms/step - loss: 0.5157 - accuracy: 0.7721\n",
      "Epoch 18/100\n",
      "154/154 [==============================] - 0s 3ms/step - loss: 0.4995 - accuracy: 0.7591\n",
      "Epoch 19/100\n",
      "154/154 [==============================] - 0s 3ms/step - loss: 0.5136 - accuracy: 0.7669\n",
      "Epoch 20/100\n",
      "154/154 [==============================] - 0s 3ms/step - loss: 0.4942 - accuracy: 0.7578\n",
      "Epoch 21/100\n",
      "154/154 [==============================] - 0s 3ms/step - loss: 0.4979 - accuracy: 0.7630\n",
      "Epoch 22/100\n",
      "154/154 [==============================] - 0s 3ms/step - loss: 0.4854 - accuracy: 0.7643\n",
      "Epoch 23/100\n",
      "154/154 [==============================] - 0s 3ms/step - loss: 0.4895 - accuracy: 0.7747\n",
      "Epoch 24/100\n",
      "154/154 [==============================] - 0s 3ms/step - loss: 0.4851 - accuracy: 0.7630\n",
      "Epoch 25/100\n",
      "154/154 [==============================] - 0s 3ms/step - loss: 0.4963 - accuracy: 0.7826\n",
      "Epoch 26/100\n",
      "154/154 [==============================] - 0s 3ms/step - loss: 0.4763 - accuracy: 0.7760\n",
      "Epoch 27/100\n",
      "154/154 [==============================] - 0s 3ms/step - loss: 0.5000 - accuracy: 0.7565\n",
      "Epoch 28/100\n",
      "154/154 [==============================] - 0s 3ms/step - loss: 0.5045 - accuracy: 0.7552\n",
      "Epoch 29/100\n",
      "154/154 [==============================] - 0s 3ms/step - loss: 0.4879 - accuracy: 0.7682\n",
      "Epoch 30/100\n",
      "154/154 [==============================] - 0s 3ms/step - loss: 0.4888 - accuracy: 0.7617\n",
      "Epoch 31/100\n",
      "154/154 [==============================] - 0s 3ms/step - loss: 0.4962 - accuracy: 0.7578\n",
      "Epoch 32/100\n",
      "154/154 [==============================] - 0s 3ms/step - loss: 0.4956 - accuracy: 0.7760\n",
      "Epoch 33/100\n",
      "154/154 [==============================] - 0s 3ms/step - loss: 0.4952 - accuracy: 0.7643\n",
      "Epoch 34/100\n",
      "154/154 [==============================] - 0s 2ms/step - loss: 0.4727 - accuracy: 0.7591\n",
      "Epoch 35/100\n",
      "154/154 [==============================] - 0s 3ms/step - loss: 0.4828 - accuracy: 0.7734\n",
      "Epoch 36/100\n",
      "154/154 [==============================] - 0s 3ms/step - loss: 0.4798 - accuracy: 0.7591\n",
      "Epoch 37/100\n",
      "154/154 [==============================] - 0s 3ms/step - loss: 0.4853 - accuracy: 0.7578\n",
      "Epoch 38/100\n",
      "154/154 [==============================] - 0s 3ms/step - loss: 0.4992 - accuracy: 0.7747\n",
      "Epoch 39/100\n",
      "154/154 [==============================] - 0s 3ms/step - loss: 0.4894 - accuracy: 0.7708\n",
      "Epoch 40/100\n",
      "154/154 [==============================] - 0s 3ms/step - loss: 0.4772 - accuracy: 0.7839\n",
      "Epoch 41/100\n",
      "154/154 [==============================] - 0s 3ms/step - loss: 0.5004 - accuracy: 0.7604\n",
      "Epoch 42/100\n",
      "154/154 [==============================] - 0s 3ms/step - loss: 0.4823 - accuracy: 0.7812\n",
      "Epoch 43/100\n",
      "154/154 [==============================] - 0s 3ms/step - loss: 0.4782 - accuracy: 0.7695\n",
      "Epoch 44/100\n",
      "154/154 [==============================] - 0s 3ms/step - loss: 0.4809 - accuracy: 0.7786\n",
      "Epoch 45/100\n",
      "154/154 [==============================] - 0s 3ms/step - loss: 0.4731 - accuracy: 0.7760\n",
      "Epoch 46/100\n",
      "154/154 [==============================] - 0s 3ms/step - loss: 0.4698 - accuracy: 0.7786\n",
      "Epoch 47/100\n",
      "154/154 [==============================] - 0s 3ms/step - loss: 0.4862 - accuracy: 0.7643\n",
      "Epoch 48/100\n",
      "154/154 [==============================] - 0s 3ms/step - loss: 0.4881 - accuracy: 0.7617\n",
      "Epoch 49/100\n",
      "154/154 [==============================] - 0s 3ms/step - loss: 0.4714 - accuracy: 0.7708\n",
      "Epoch 50/100\n",
      "154/154 [==============================] - 0s 3ms/step - loss: 0.4805 - accuracy: 0.7669\n",
      "Epoch 51/100\n",
      "154/154 [==============================] - 0s 3ms/step - loss: 0.4738 - accuracy: 0.7773\n",
      "Epoch 52/100\n",
      "154/154 [==============================] - 0s 3ms/step - loss: 0.4840 - accuracy: 0.7630\n",
      "Epoch 53/100\n",
      "154/154 [==============================] - 0s 3ms/step - loss: 0.4847 - accuracy: 0.7721\n",
      "Epoch 54/100\n",
      "154/154 [==============================] - 0s 3ms/step - loss: 0.4792 - accuracy: 0.7708\n",
      "Epoch 55/100\n",
      "154/154 [==============================] - 0s 3ms/step - loss: 0.4874 - accuracy: 0.7565\n",
      "Epoch 56/100\n",
      "154/154 [==============================] - 0s 3ms/step - loss: 0.4726 - accuracy: 0.7630\n",
      "Epoch 57/100\n",
      "154/154 [==============================] - 0s 3ms/step - loss: 0.4924 - accuracy: 0.7721\n",
      "Epoch 58/100\n",
      "154/154 [==============================] - 0s 3ms/step - loss: 0.4719 - accuracy: 0.7760\n",
      "Epoch 59/100\n",
      "154/154 [==============================] - 0s 3ms/step - loss: 0.4690 - accuracy: 0.7878\n",
      "Epoch 60/100\n",
      "154/154 [==============================] - 0s 3ms/step - loss: 0.4774 - accuracy: 0.7656\n",
      "Epoch 61/100\n",
      "154/154 [==============================] - 0s 3ms/step - loss: 0.4745 - accuracy: 0.7786\n",
      "Epoch 62/100\n",
      "154/154 [==============================] - 0s 3ms/step - loss: 0.4780 - accuracy: 0.7734\n",
      "Epoch 63/100\n",
      "154/154 [==============================] - 0s 3ms/step - loss: 0.5116 - accuracy: 0.7578\n",
      "Epoch 64/100\n",
      "154/154 [==============================] - 0s 3ms/step - loss: 0.4748 - accuracy: 0.7734\n",
      "Epoch 65/100\n",
      "154/154 [==============================] - 0s 3ms/step - loss: 0.4750 - accuracy: 0.7734\n",
      "Epoch 66/100\n",
      "154/154 [==============================] - 0s 3ms/step - loss: 0.4684 - accuracy: 0.7734\n",
      "Epoch 67/100\n",
      "154/154 [==============================] - 0s 3ms/step - loss: 0.4855 - accuracy: 0.7669\n",
      "Epoch 68/100\n",
      "154/154 [==============================] - 0s 3ms/step - loss: 0.4660 - accuracy: 0.7799\n",
      "Epoch 69/100\n",
      "154/154 [==============================] - 0s 3ms/step - loss: 0.4763 - accuracy: 0.7695\n",
      "Epoch 70/100\n",
      "154/154 [==============================] - 0s 3ms/step - loss: 0.4627 - accuracy: 0.7878\n",
      "Epoch 71/100\n",
      "154/154 [==============================] - 0s 3ms/step - loss: 0.4654 - accuracy: 0.7773\n",
      "Epoch 72/100\n",
      "154/154 [==============================] - 0s 3ms/step - loss: 0.4810 - accuracy: 0.7721\n",
      "Epoch 73/100\n",
      "154/154 [==============================] - 0s 3ms/step - loss: 0.4665 - accuracy: 0.7734\n",
      "Epoch 74/100\n",
      "154/154 [==============================] - 0s 3ms/step - loss: 0.4860 - accuracy: 0.7708\n",
      "Epoch 75/100\n",
      "154/154 [==============================] - 0s 3ms/step - loss: 0.4654 - accuracy: 0.7878\n",
      "Epoch 76/100\n",
      "154/154 [==============================] - 0s 3ms/step - loss: 0.4732 - accuracy: 0.7747\n",
      "Epoch 77/100\n",
      "154/154 [==============================] - 0s 3ms/step - loss: 0.4954 - accuracy: 0.7630\n",
      "Epoch 78/100\n",
      "154/154 [==============================] - 0s 3ms/step - loss: 0.4664 - accuracy: 0.7747\n",
      "Epoch 79/100\n",
      "154/154 [==============================] - 0s 3ms/step - loss: 0.4780 - accuracy: 0.7760\n",
      "Epoch 80/100\n",
      "154/154 [==============================] - 0s 3ms/step - loss: 0.4692 - accuracy: 0.7708\n",
      "Epoch 81/100\n"
     ]
    },
    {
     "name": "stdout",
     "output_type": "stream",
     "text": [
      "154/154 [==============================] - 0s 3ms/step - loss: 0.4699 - accuracy: 0.7799\n",
      "Epoch 82/100\n",
      "154/154 [==============================] - 0s 3ms/step - loss: 0.4699 - accuracy: 0.7734\n",
      "Epoch 83/100\n",
      "154/154 [==============================] - 0s 3ms/step - loss: 0.4700 - accuracy: 0.7695\n",
      "Epoch 84/100\n",
      "154/154 [==============================] - 0s 3ms/step - loss: 0.4580 - accuracy: 0.7969\n",
      "Epoch 85/100\n",
      "154/154 [==============================] - 0s 3ms/step - loss: 0.4597 - accuracy: 0.7826\n",
      "Epoch 86/100\n",
      "154/154 [==============================] - 0s 3ms/step - loss: 0.4664 - accuracy: 0.7852\n",
      "Epoch 87/100\n",
      "154/154 [==============================] - 0s 3ms/step - loss: 0.4673 - accuracy: 0.7930\n",
      "Epoch 88/100\n",
      "154/154 [==============================] - 0s 3ms/step - loss: 0.4730 - accuracy: 0.7839\n",
      "Epoch 89/100\n",
      "154/154 [==============================] - 0s 3ms/step - loss: 0.4619 - accuracy: 0.7865\n",
      "Epoch 90/100\n",
      "154/154 [==============================] - 0s 3ms/step - loss: 0.4590 - accuracy: 0.7786\n",
      "Epoch 91/100\n",
      "154/154 [==============================] - 0s 3ms/step - loss: 0.4644 - accuracy: 0.7669\n",
      "Epoch 92/100\n",
      "154/154 [==============================] - 0s 3ms/step - loss: 0.4708 - accuracy: 0.7812\n",
      "Epoch 93/100\n",
      "154/154 [==============================] - 0s 3ms/step - loss: 0.4576 - accuracy: 0.7839\n",
      "Epoch 94/100\n",
      "154/154 [==============================] - 0s 3ms/step - loss: 0.4597 - accuracy: 0.7760\n",
      "Epoch 95/100\n",
      "154/154 [==============================] - 0s 3ms/step - loss: 0.4722 - accuracy: 0.7734\n",
      "Epoch 96/100\n",
      "154/154 [==============================] - 0s 3ms/step - loss: 0.4679 - accuracy: 0.7721\n",
      "Epoch 97/100\n",
      "154/154 [==============================] - 0s 3ms/step - loss: 0.4692 - accuracy: 0.7826\n",
      "Epoch 98/100\n",
      "154/154 [==============================] - 0s 3ms/step - loss: 0.4581 - accuracy: 0.7826\n",
      "Epoch 99/100\n",
      "154/154 [==============================] - 0s 3ms/step - loss: 0.4619 - accuracy: 0.7865\n",
      "Epoch 100/100\n",
      "154/154 [==============================] - 0s 3ms/step - loss: 0.4555 - accuracy: 0.7747\n"
     ]
    },
    {
     "data": {
      "text/plain": [
       "<keras.callbacks.History at 0x7f475ffa5b50>"
      ]
     },
     "execution_count": 213,
     "metadata": {},
     "output_type": "execute_result"
    }
   ],
   "source": [
    "# Fitting/Training Model. Our Model will make 70 epochs and updates would be done after every 3 examples\n",
    "model.fit(diabetic_features,diabetic_diagnosis,epochs=100,batch_size=5)"
   ]
  },
  {
   "cell_type": "code",
   "execution_count": 214,
   "metadata": {},
   "outputs": [
    {
     "name": "stdout",
     "output_type": "stream",
     "text": [
      "24/24 [==============================] - 0s 2ms/step - loss: 0.4419 - accuracy: 0.7760\n",
      "Model accuracy : 77.604168653\n"
     ]
    }
   ],
   "source": [
    "# Accuracy Of the Model\n",
    "_,accuracy = model.evaluate(diabetic_features, diabetic_diagnosis)\n",
    "print(\"Model accuracy : %.9f\"% (accuracy*100))"
   ]
  },
  {
   "cell_type": "code",
   "execution_count": 215,
   "metadata": {},
   "outputs": [
    {
     "name": "stdout",
     "output_type": "stream",
     "text": [
      "24/24 [==============================] - 0s 2ms/step\n",
      "[1, 0, 1, 0, 1, 0, 0, 1, 1, 0, 0, 1, 1, 1, 1, 0, 0, 0, 0, 0, 0, 0, 1, 0, 1, 0, 1, 0, 0, 0, 0, 1, 0, 0, 0, 0, 1, 0, 0, 1, 1, 1, 0, 1, 1, 1, 1, 0, 0, 0, 0, 0, 0, 1, 1, 0, 1, 0, 1, 0, 0, 1, 0, 0, 0, 0, 0, 0, 0, 0, 0, 0, 1, 0, 0, 0, 0, 0, 1, 0, 0, 0, 0, 0, 0, 0, 0, 0, 1, 0, 0, 0, 0, 0, 0, 1, 0, 0, 0, 0, 1, 0, 0, 0, 0, 0, 0, 1, 0, 0, 0, 1, 0, 0, 1, 1, 0, 0, 0, 0, 1, 0, 0, 0, 0, 0, 0, 0, 0, 0, 1, 1, 1, 0, 0, 0, 0, 0, 0, 0, 0, 0, 0, 0, 1, 0, 0, 0, 0, 0, 0, 0, 1, 0, 1, 1, 0, 0, 0, 1, 0, 0, 0, 0, 0, 0, 0, 0, 0, 0, 0, 0, 1, 0, 0, 1, 0, 0, 1, 1, 0, 0, 0, 0, 0, 1, 1, 0, 0, 0, 0, 0, 1, 1, 0, 1, 0, 0, 0, 1, 0, 0, 0, 0, 0, 0, 1, 1, 0, 1, 0, 0, 1, 0, 0, 1, 0, 0, 0, 0, 0, 1, 0, 1, 0, 0, 0, 1, 0, 0, 0, 0, 0, 0, 0, 1, 1, 1, 1, 0, 0, 0, 0, 1, 0, 1, 1, 0, 0, 0, 0, 0, 0, 0, 1, 0, 0, 0, 1, 1, 1, 1, 0, 1, 0, 0, 1, 0, 0, 1, 0, 0, 0, 0, 0, 0, 0, 0, 0, 0, 0, 1, 0, 1, 0, 1, 0, 0, 0, 0, 0, 0, 1, 1, 0, 1, 0, 0, 1, 0, 1, 0, 0, 0, 0, 0, 1, 0, 0, 0, 0, 0, 0, 0, 0, 0, 0, 1, 0, 1, 0, 0, 0, 1, 0, 0, 0, 1, 0, 0, 1, 0, 1, 0, 0, 1, 0, 0, 1, 1, 0, 0, 0, 0, 0, 0, 0, 1, 0, 1, 0, 0, 0, 0, 0, 1, 1, 1, 0, 1, 1, 0, 0, 1, 0, 0, 0, 0, 0, 0, 1, 0, 0, 0, 1, 1, 0, 0, 1, 0, 0, 0, 0, 0, 0, 0, 0, 0, 1, 0, 0, 1, 0, 0, 1, 0, 0, 0, 0, 1, 0, 0, 0, 0, 1, 1, 0, 0, 1, 0, 0, 0, 0, 0, 0, 0, 0, 1, 0, 0, 0, 0, 0, 0, 1, 1, 0, 1, 0, 0, 0, 0, 0, 0, 0, 1, 1, 0, 0, 0, 1, 0, 0, 0, 0, 1, 0, 0, 0, 0, 0, 0, 0, 0, 0, 1, 0, 0, 1, 0, 0, 0, 0, 0, 0, 0, 0, 0, 0, 1, 0, 0, 0, 0, 0, 0, 0, 0, 0, 0, 1, 0, 0, 0, 1, 0, 0, 1, 0, 1, 0, 0, 0, 0, 0, 0, 0, 0, 1, 1, 0, 0, 1, 0, 0, 0, 0, 0, 0, 0, 0, 0, 0, 0, 0, 0, 1, 0, 0, 0, 0, 0, 0, 1, 0, 0, 0, 0, 0, 0, 0, 0, 0, 0, 0, 1, 0, 0, 0, 0, 0, 0, 0, 0, 0, 1, 1, 0, 0, 0, 0, 0, 0, 0, 0, 1, 0, 0, 0, 0, 1, 1, 0, 0, 0, 0, 0, 0, 0, 0, 0, 0, 0, 0, 0, 0, 1, 0, 1, 1, 0, 0, 0, 0, 1, 0, 1, 0, 1, 0, 1, 0, 0, 0, 1, 0, 0, 0, 1, 0, 0, 0, 0, 1, 1, 0, 1, 0, 0, 0, 0, 1, 1, 0, 1, 0, 0, 0, 0, 1, 0, 0, 1, 0, 0, 0, 0, 0, 0, 0, 0, 0, 0, 0, 0, 0, 0, 0, 0, 0, 0, 0, 1, 0, 0, 0, 0, 1, 0, 0, 0, 0, 0, 0, 0, 0, 0, 1, 0, 0, 1, 1, 1, 1, 0, 0, 0, 0, 1, 1, 1, 0, 0, 0, 0, 1, 1, 0, 0, 0, 0, 1, 0, 0, 0, 0, 0, 0, 0, 1, 0, 1, 0, 1, 0, 0, 0, 0, 0, 1, 0, 0, 1, 0, 0, 0, 0, 0, 1, 0, 0, 0, 1, 0, 0, 1, 1, 0, 0, 0, 0, 0, 0, 0, 0, 0, 0, 0, 0, 0, 0, 0, 1, 0, 0, 0, 0, 0, 0, 0, 1, 0, 0, 1, 1, 0, 0, 0, 1, 1, 0, 0, 0, 0, 1, 0, 0, 0, 0, 1, 0, 1, 0, 0, 0, 0, 0, 0]\n"
     ]
    }
   ],
   "source": [
    "# Calculation Of Predictions (values in this dataframe lie between 0 and 1 (real value))\n",
    "diabetic_report = model.predict(diabetic_features)\n",
    "print([round(x[0]) for x in diabetic_report])"
   ]
  },
  {
   "cell_type": "markdown",
   "metadata": {},
   "source": [
    "# THANK YOU"
   ]
  }
 ],
 "metadata": {
  "kernelspec": {
   "display_name": "Python 3",
   "language": "python",
   "name": "python3"
  },
  "language_info": {
   "codemirror_mode": {
    "name": "ipython",
    "version": 3
   },
   "file_extension": ".py",
   "mimetype": "text/x-python",
   "name": "python",
   "nbconvert_exporter": "python",
   "pygments_lexer": "ipython3",
   "version": "3.7.6"
  }
 },
 "nbformat": 4,
 "nbformat_minor": 2
}
